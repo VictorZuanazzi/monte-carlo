{
 "cells": [
  {
   "cell_type": "code",
   "execution_count": 3,
   "metadata": {},
   "outputs": [],
   "source": [
    "import numpy as np\n",
    "import seaborn as sns\n",
    "from tqdm import trange\n",
    "from scipy.stats import norm\n",
    "from scipy.stats import uniform\n",
    "import matplotlib.pyplot as plt\n",
    "\n",
    "# plotting params\n",
    "%matplotlib inline\n",
    "plt.rcParams['font.size'] = 10\n",
    "plt.rcParams['axes.labelsize'] = 10\n",
    "plt.rcParams['axes.titlesize'] = 10\n",
    "plt.rcParams['xtick.labelsize'] = 8\n",
    "plt.rcParams['ytick.labelsize'] = 8\n",
    "plt.rcParams['legend.fontsize'] = 10\n",
    "plt.rcParams['figure.titlesize'] = 12\n",
    "plt.rcParams['figure.figsize'] = (15.0, 8.0)\n",
    "sns.set_style(\"white\")\n",
    "\n",
    "# path params\n",
    "plot_dir = './plots/'"
   ]
  },
  {
   "cell_type": "markdown",
   "metadata": {},
   "source": [
    "## 6.7 Importance Sampling for Off-Policy Estimation \n",
    "\n",
    "Recall that Monte Carlo sampling allows us to estimate the expectation of a random function by sampling from the corresponding probability distribution. More precisely, if p(x) is a 1-dim (continuous) probability density, and X ∼ p is a stochastic variable distributed according to this density p, then the expected value of some function f can be estimated using Monte Carlo\n",
    "sampling by:\n",
    "\n",
    "$$ E_p(f(X)) =\\int f(x)p(x) dx \\approx \\frac{1}{n} \\sum_{i=1}^{n}f(X_i)$$\n",
    "\n",
    "for sample of independent $X_1, X_2,...,X_n ~p$.\n"
   ]
  },
  {
   "cell_type": "markdown",
   "metadata": {},
   "source": [
    "## Importance Sampling"
   ]
  },
  {
   "cell_type": "markdown",
   "metadata": {
    "collapsed": true
   },
   "source": [
    "With importance sampling, we try to reduce the variance of our Monte-Carlo integral estimation by choosing a better distribution from which to simulate our random variables. It involves multiplying the integrand by 1 (usually dressed up in a “tricky fashion”) to yield an expectation of a quantity that varies less than the original integrand over the region of integration. Concretely,\n",
    "\n",
    "$$\\mathbb{E}_{p(x)} \\big[\\ f(x) \\big] = \\int f(x)\\ p(x)\\ dx = \\int f(x)\\ p(x)\\ \\frac{q(x)}{q(x)}\\ dx = \\int \\frac{p(x)}{q(x)}\\cdot f(x)\\ q(x)\\ dx = \\mathbb{E}_{q(x)}  \\big[\\ f(x)\\cdot \\frac{p(x)}{q(x)} \\big]$$\n",
    "\n",
    "Thus, the MC estimation of the expectation becomes:\n",
    "\n",
    "$$\\mathbb{E}_{q(x)}  \\big[\\ f(x)\\cdot \\frac{p(x)}{q(x)} \\big] \\approx \\frac{1}{N} \\sum_{i=1}^{n} w_i \\cdot f(x_i)$$\n",
    "\n",
    "where $w_i = \\dfrac{p(x_i)}{q(x_i)}$"
   ]
  },
  {
   "cell_type": "markdown",
   "metadata": {},
   "source": [
    "1. Let X ∼ N(0; 1) be a standard normal stochastic variable. Use importance sampling to estimate $E(X^2)$ by sampling from a uniform distribution $q ∼ U(−5; 5)$ on the interval $[−5; 5]$. What value do you expect (based on your knowledge of the normal distribution)? How accurate is your estimate based on importance sampling?"
   ]
  },
  {
   "cell_type": "code",
   "execution_count": 77,
   "metadata": {},
   "outputs": [],
   "source": [
    "def IS_histogram(num_samples, plot=True):\n",
    "    \n",
    "    num_samples = int(num_samples)\n",
    "    \n",
    "    # parameters of the probability distributions\n",
    "    mu_1, sigma_1 = 0, 1\n",
    "    a, b = -5, 5\n",
    "    \n",
    "    # sample from the distributions\n",
    "    Y = np.random.normal(mu_1, sigma_1, num_samples)\n",
    "    X = np.random.uniform(a, b, num_samples)\n",
    "    \n",
    "    # setup pdfs\n",
    "    norm_pdf = norm(mu_1, sigma_1)\n",
    "    uniform_pdf = uniform(a, b-a)\n",
    "    \n",
    "    # calculate weight\n",
    "    num = norm_pdf.pdf(X)\n",
    "    denum = uniform_pdf.pdf(X)\n",
    "    weights = num / denum\n",
    "    \n",
    "    # calculate X^2\n",
    "    f_of_X = pow(X,2)\n",
    "    f_of_Y = pow(Y,2)\n",
    "    \n",
    "    # calculate the expected value\n",
    "    expected_value = np.matmul(weights, f_of_X)/num_samples\n",
    "    \n",
    "    # print resuts\n",
    "    print(\"===================================================\")\n",
    "    print(\"Importance Sampling of size {}\".format(num_samples))\n",
    "    print(\"Expected value: {}\".format(expected_value))\n",
    "    print(\"===================================================\\n\")\n",
    "    \n",
    "    # weight the samples from the normal distribuiton\n",
    "    IS_distribution = weights*f_of_X\n",
    "    \n",
    "    # plot and compare\n",
    "    if plot:\n",
    "        n, bins, patches = plt.hist(IS_distribution, 50, density=1, facecolor='green', alpha=0.75)\n",
    "        plt.ylabel('Number of Samples')\n",
    "        plt.xlabel(r'$X^2$, sampled from uniform distribution')\n",
    "        plt.title(\"Histogram, Importance Sampling\")\n",
    "        plt.grid(True)\n",
    "        plt.savefig(plot_dir + 'is_histogram_{}.pdf'.format(num_samples), format='pdf', dpi=300)\n",
    "        plt.show()\n",
    "        \n",
    "        n, bins, patches = plt.hist(f_of_Y, 50, density=1, facecolor='blue', alpha=0.75)\n",
    "        plt.ylabel('Number of Samples')\n",
    "        plt.xlabel(r'$Y^2$, sampled from normal distribution')\n",
    "        plt.title(\"Histogram\")\n",
    "        plt.grid(True)\n",
    "        plt.savefig(plot_dir + 'is_histogram_{}.pdf'.format(num_samples), format='pdf', dpi=300)\n",
    "        plt.show()\n",
    "        \n",
    "    "
   ]
  },
  {
   "cell_type": "code",
   "execution_count": 78,
   "metadata": {},
   "outputs": [
    {
     "name": "stdout",
     "output_type": "stream",
     "text": [
      "===================================================\n",
      "Importance Sampling of size 100000\n",
      "Expected value: 0.9975154966111369\n",
      "===================================================\n",
      "\n"
     ]
    },
    {
     "data": {
      "image/png": "[encoded data removed]",
      "text/plain": [
       "<Figure size 432x288 with 1 Axes>"
      ]
     },
     "metadata": {
      "needs_background": "light"
     },
     "output_type": "display_data"
    },
    {
     "data": {
      "image/png": "[encoded data removed]",
      "text/plain": [
       "<Figure size 432x288 with 1 Axes>"
      ]
     },
     "metadata": {
      "needs_background": "light"
     },
     "output_type": "display_data"
    }
   ],
   "source": [
    "IS_histogram(1e5)"
   ]
  },
  {
   "cell_type": "markdown",
   "metadata": {},
   "source": [
    "2. Suppose some random process produces output $(−1 ≤ X ≤ 1)$ that is distributed according to the following continuous density:\n",
    "$$p(x) = \\frac{1 + cos(\\pi x)}{2}$$\n",
    "\n",
    "Again we are interested in estimation $E(X^2)$. Use importance sampling to estimate this value. Quantify the uncertainty on your result."
   ]
  },
  {
   "cell_type": "markdown",
   "metadata": {},
   "source": [
    "## References\n",
    "\n",
    "* http://ib.berkeley.edu/labs/slatkin/eriq/classes/guest_lect/mc_lecture_notes.pdf"
   ]
  }
 ],
 "metadata": {
  "kernelspec": {
   "display_name": "Python 3",
   "language": "python",
   "name": "python3"
  },
  "language_info": {
   "codemirror_mode": {
    "name": "ipython",
    "version": 3
   },
   "file_extension": ".py",
   "mimetype": "text/x-python",
   "name": "python",
   "nbconvert_exporter": "python",
   "pygments_lexer": "ipython3",
   "version": "3.7.0"
  }
 },
 "nbformat": 4,
 "nbformat_minor": 2
}
