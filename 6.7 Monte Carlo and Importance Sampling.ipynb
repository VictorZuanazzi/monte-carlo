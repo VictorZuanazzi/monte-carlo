{
 "cells": [
  {
   "cell_type": "code",
   "execution_count": 44,
   "metadata": {},
   "outputs": [],
   "source": [
    "import numpy as np\n",
    "import seaborn as sns\n",
    "from tqdm import trange\n",
    "from scipy.stats import norm\n",
    "from scipy.stats import uniform\n",
    "import matplotlib.pyplot as plt\n",
    "\n",
    "# plotting params\n",
    "%matplotlib inline\n",
    "plt.rcParams['font.size'] = 10\n",
    "plt.rcParams['axes.labelsize'] = 10\n",
    "plt.rcParams['axes.titlesize'] = 10\n",
    "plt.rcParams['xtick.labelsize'] = 8\n",
    "plt.rcParams['ytick.labelsize'] = 8\n",
    "plt.rcParams['legend.fontsize'] = 10\n",
    "plt.rcParams['figure.titlesize'] = 12\n",
    "plt.rcParams['figure.figsize'] = (15.0, 8.0)\n",
    "sns.set_style(\"white\")\n",
    "\n",
    "# path params\n",
    "plot_dir = './plots/'"
   ]
  },
  {
   "cell_type": "markdown",
   "metadata": {},
   "source": [
    "## 6.7 Importance Sampling for Off-Policy Estimation \n",
    "\n",
    "Recall that Monte Carlo sampling allows us to estimate the expectation of a random function by sampling from the corresponding probability distribution. More precisely, if p(x) is a 1-dim (continuous) probability density, and X ∼ p is a stochastic variable distributed according to this density p, then the expected value of some function f can be estimated using Monte Carlo\n",
    "sampling by:\n",
    "\n",
    "$$ E_p(f(X)) =\\int f(x)p(x) dx \\approx \\frac{1}{n} \\sum_{i=1}^{n}f(X_i)$$\n",
    "\n",
    "for sample of independent $X_1, X_2,...,X_n ~p$.\n"
   ]
  },
  {
   "cell_type": "markdown",
   "metadata": {},
   "source": [
    "## Importance Sampling"
   ]
  },
  {
   "cell_type": "markdown",
   "metadata": {
    "collapsed": true
   },
   "source": [
    "With importance sampling, we try to reduce the variance of our Monte-Carlo integral estimation by choosing a better distribution from which to simulate our random variables. It involves multiplying the integrand by 1 (usually dressed up in a “tricky fashion”) to yield an expectation of a quantity that varies less than the original integrand over the region of integration. Concretely,\n",
    "\n",
    "$$\\mathbb{E}_{p(x)} \\big[\\ f(x) \\big] = \\int f(x)\\ p(x)\\ dx = \\int f(x)\\ p(x)\\ \\frac{q(x)}{q(x)}\\ dx = \\int \\frac{p(x)}{q(x)}\\cdot f(x)\\ q(x)\\ dx = \\mathbb{E}_{q(x)}  \\big[\\ f(x)\\cdot \\frac{p(x)}{q(x)} \\big]$$\n",
    "\n",
    "Thus, the MC estimation of the expectation becomes:\n",
    "\n",
    "$$\\mathbb{E}_{q(x)}  \\big[\\ f(x)\\cdot \\frac{p(x)}{q(x)} \\big] \\approx \\frac{1}{N} \\sum_{i=1}^{n} w_i \\cdot f(x_i)$$\n",
    "\n",
    "where $w_i = \\dfrac{p(x_i)}{q(x_i)}$"
   ]
  },
  {
   "cell_type": "markdown",
   "metadata": {},
   "source": [
    "1. Let X ∼ N(0; 1) be a standard normal stochastic variable. Use importance sampling to estimate $E(X^2)$ by sampling from a uniform distribution $q ∼ U(−5; 5)$ on the interval $[−5; 5]$. What value do you expect (based on your knowledge of the normal distribution)? How accurate is your estimate based on importance sampling?"
   ]
  },
  {
   "cell_type": "code",
   "execution_count": 45,
   "metadata": {},
   "outputs": [],
   "source": [
    "def importance_sampling(num_simulations, num_samples, verbose=True, plot=False):\n",
    "    \n",
    "    if verbose:\n",
    "        print(\"===================================================\")\n",
    "        print(\"{} Importance Sampling Simulations of size {}\".format(num_simulations, num_samples))\n",
    "        print(\"===================================================\\n\")\n",
    "    \n",
    "    num_simulations = int(num_simulations)\n",
    "    num_samples = int(num_samples)\n",
    "    \n",
    "    probas = []\n",
    "    for i in range(num_simulations):\n",
    "        mu_1, sigma_1 = 0, 1\n",
    "        mu_1_n, sigma_1_n = 1, 1\n",
    "        a, b = -5, 5\n",
    "        \n",
    "        # setup pdfs\n",
    "        old_pdf_1 = norm(mu_1, sigma_1)\n",
    "        new_pdf_1 = uniform(a, b-a)\n",
    "\n",
    "        #X = np.random.normal(mu_1_n, sigma_1_n, num_samples)\n",
    "        X = np.random.uniform(a, b)\n",
    "        f_of_X = pow(X,2)\n",
    "        \n",
    "\n",
    "        # calculate weight\n",
    "        num = old_pdf_1.pdf(X) \n",
    "        denum = new_pdf_1.pdf(X)\n",
    "        weights = num / denum\n",
    "\n",
    "        # compute unbiased proba\n",
    "        proba = np.sum(weights) / num_samples\n",
    "        probas.append(proba)\n",
    "        \n",
    "        if plot:\n",
    "            if i == num_simulations -1:\n",
    "                plt.scatter(X, f_of_X, color='r')\n",
    "                plt.xlabel(r'$X $')\n",
    "                plt.ylabel(r'$x^2$')\n",
    "                plt.title(\"Monte Carlo Estimation\")\n",
    "                plt.grid(True)\n",
    "                plt.savefig(plot_dir + 'imp_sampling_{}.pdf'.format(num_samples), format='pdf', dpi=300)\n",
    "                plt.show()\n",
    "    \n",
    "    \n",
    "    mean_proba = np.mean(probas)\n",
    "    std_proba = np.std(probas)\n",
    "    \n",
    "    if verbose:\n",
    "        print(\"Probability Mean: {}\".format(mean_proba))\n",
    "        print(\"Probability Std: {}\".format(std_proba))\n",
    "    \n",
    "    return probas"
   ]
  },
  {
   "cell_type": "code",
   "execution_count": 47,
   "metadata": {},
   "outputs": [
    {
     "name": "stdout",
     "output_type": "stream",
     "text": [
      "===================================================\n",
      "10 Importance Sampling Simulations of size 10000\n",
      "===================================================\n",
      "\n"
     ]
    },
    {
     "data": {
      "image/png": "[encoded data removed]",
      "text/plain": [
       "<Figure size 1080x576 with 1 Axes>"
      ]
     },
     "metadata": {},
     "output_type": "display_data"
    },
    {
     "name": "stdout",
     "output_type": "stream",
     "text": [
      "Probability Mean: 8.830987640322434e-05\n",
      "Probability Std: 9.608920080405446e-05\n"
     ]
    }
   ],
   "source": [
    "probas = importance_sampling(10, 10000, plot=True)"
   ]
  },
  {
   "cell_type": "code",
   "execution_count": 48,
   "metadata": {},
   "outputs": [],
   "source": [
    "def IS_histogram(num_samples, plot=True):\n",
    "    \n",
    "    num_samples = int(num_samples)\n",
    "\n",
    "    mu_1_n, sigma_1_n = 0, 1\n",
    "\n",
    "    X = np.random.normal(mu_1_n, sigma_1_n, num_samples)\n",
    "    f_of_X = pow(X,2)\n",
    "\n",
    "    if plot:\n",
    "        n, bins, patches = plt.hist(f_of_X, 50, normed=1, facecolor='green', alpha=0.75)\n",
    "        plt.ylabel('Number of Samples')\n",
    "        plt.xlabel(r'$X^2$')\n",
    "        plt.title(\"Importance Sampling\")\n",
    "        plt.grid(True)\n",
    "        plt.savefig(plot_dir + 'is_histogram_{}.pdf'.format(num_samples), format='pdf', dpi=300)\n",
    "        plt.show()"
   ]
  },
  {
   "cell_type": "code",
   "execution_count": 49,
   "metadata": {},
   "outputs": [
    {
     "name": "stderr",
     "output_type": "stream",
     "text": [
      "C:\\ProgramData\\Anaconda3\\lib\\site-packages\\matplotlib\\axes\\_axes.py:6571: UserWarning: The 'normed' kwarg is deprecated, and has been replaced by the 'density' kwarg.\n",
      "  warnings.warn(\"The 'normed' kwarg is deprecated, and has been \"\n"
     ]
    },
    {
     "data": {
      "image/png": "[encoded data removed]",
      "text/plain": [
       "<Figure size 1080x576 with 1 Axes>"
      ]
     },
     "metadata": {},
     "output_type": "display_data"
    }
   ],
   "source": [
    "IS_histogram(1e5)"
   ]
  },
  {
   "cell_type": "code",
   "execution_count": 50,
   "metadata": {},
   "outputs": [
    {
     "name": "stdout",
     "output_type": "stream",
     "text": [
      "Iter 1/4\n",
      "Iter 2/4\n",
      "Iter 3/4\n",
      "Iter 4/4\n"
     ]
    }
   ],
   "source": [
    "num_samples = [1e3, 1e4, 1e5, 1e6]\n",
    "num_repetitions = 25\n",
    "\n",
    "total_probas = []\n",
    "for i, num_sample in enumerate(num_samples):\n",
    "    print(\"Iter {}/{}\".format(i+1, len(num_samples)))\n",
    "    probas = importance_sampling(num_repetitions, num_sample, verbose=False)\n",
    "    total_probas.append(probas)"
   ]
  },
  {
   "cell_type": "code",
   "execution_count": 52,
   "metadata": {},
   "outputs": [
    {
     "data": {
      "image/png": "[encoded data removed]",
      "text/plain": [
       "<Figure size 1080x576 with 1 Axes>"
      ]
     },
     "metadata": {},
     "output_type": "display_data"
    }
   ],
   "source": [
    "y_axis = np.asarray(total_probas)\n",
    "x_axis = np.asarray(num_samples)\n",
    "\n",
    "for x, y in zip(x_axis, y_axis):\n",
    "    plt.scatter([x] * len(y), y, s=12)\n",
    "    \n",
    "plt.xscale('log')\n",
    "plt.title(\"Importance Sampling\")\n",
    "plt.ylabel(\"Probability Estimate\")\n",
    "plt.xlabel('Number of Samples')\n",
    "plt.grid(True)\n",
    "plt.savefig(plot_dir + 'imp_sampling_convergence_speed.pdf', format='pdf', dpi=300)\n",
    "plt.show()"
   ]
  },
  {
   "cell_type": "markdown",
   "metadata": {},
   "source": [
    "## References\n",
    "\n",
    "* http://ib.berkeley.edu/labs/slatkin/eriq/classes/guest_lect/mc_lecture_notes.pdf"
   ]
  }
 ],
 "metadata": {
  "kernelspec": {
   "display_name": "Python 3",
   "language": "python",
   "name": "python3"
  },
  "language_info": {
   "codemirror_mode": {
    "name": "ipython",
    "version": 3
   },
   "file_extension": ".py",
   "mimetype": "text/x-python",
   "name": "python",
   "nbconvert_exporter": "python",
   "pygments_lexer": "ipython3",
   "version": "3.7.0"
  }
 },
 "nbformat": 4,
 "nbformat_minor": 2
}
